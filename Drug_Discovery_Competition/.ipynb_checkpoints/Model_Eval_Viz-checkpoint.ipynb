{
 "cells": [
  {
   "cell_type": "code",
   "execution_count": 1,
   "id": "916f9ae0-9cdc-48cf-80b4-d70c3da0fecb",
   "metadata": {},
   "outputs": [],
   "source": [
    "# If you don't have the moduel please install them for this notebook\n",
    "#!pip install Bio"
   ]
  },
  {
   "cell_type": "code",
   "execution_count": 2,
   "id": "8a8e4edc-9526-49e1-8b88-3dc7779e82d2",
   "metadata": {},
   "outputs": [],
   "source": [
    "import re\n",
    "import numpy as np\n",
    "import pandas as pd\n",
    "from collections import Counter\n",
    "import itertools\n",
    "from Bio.SeqUtils.ProtParam import ProteinAnalysis\n",
    "\n",
    "from sklearn.preprocessing import StandardScaler, LabelEncoder\n",
    "from sklearn.model_selection import train_test_split\n",
    "from sklearn.linear_model import LogisticRegression\n",
    "from sklearn.metrics import (\n",
    "    accuracy_score, precision_score, recall_score, f1_score, roc_auc_score,\n",
    "    confusion_matrix, classification_report\n",
    ")\n",
    "\n",
    "import matplotlib.pyplot as plt\n",
    "import seaborn as sns"
   ]
  },
  {
   "cell_type": "code",
   "execution_count": 3,
   "id": "c3a84e2e-0a35-48df-8d71-bb048b51c787",
   "metadata": {},
   "outputs": [],
   "source": [
    "# Read in data\n",
    "data_solution = pd.read_csv('testing_data_solution.csv')\n",
    "data_test = pd.read_csv('testing_data.csv')"
   ]
  },
  {
   "cell_type": "code",
   "execution_count": 4,
   "id": "4d9bee92-06fa-48cc-a3c1-42d1e5b79352",
   "metadata": {},
   "outputs": [
    {
     "data": {
      "text/html": [
       "<div>\n",
       "<style scoped>\n",
       "    .dataframe tbody tr th:only-of-type {\n",
       "        vertical-align: middle;\n",
       "    }\n",
       "\n",
       "    .dataframe tbody tr th {\n",
       "        vertical-align: top;\n",
       "    }\n",
       "\n",
       "    .dataframe thead th {\n",
       "        text-align: right;\n",
       "    }\n",
       "</style>\n",
       "<table border=\"1\" class=\"dataframe\">\n",
       "  <thead>\n",
       "    <tr style=\"text-align: right;\">\n",
       "      <th></th>\n",
       "      <th>Entry</th>\n",
       "      <th>Sequence</th>\n",
       "      <th>Selected_PDB</th>\n",
       "    </tr>\n",
       "  </thead>\n",
       "  <tbody>\n",
       "    <tr>\n",
       "      <th>0</th>\n",
       "      <td>Q9LF79</td>\n",
       "      <td>MTSLLKSSPGRRRGGDVESGKSEHADSDSDTFYIPSKNASIERLQQ...</td>\n",
       "      <td>4aqr</td>\n",
       "    </tr>\n",
       "    <tr>\n",
       "      <th>1</th>\n",
       "      <td>P9WI81</td>\n",
       "      <td>MTTPSHLSDRYELGEILGFGGMSEVHLARDLRLHRDVAVKVLRADL...</td>\n",
       "      <td>3ork</td>\n",
       "    </tr>\n",
       "    <tr>\n",
       "      <th>2</th>\n",
       "      <td>P04439</td>\n",
       "      <td>MAVMAPRTLLLLLSGALALTQTWAGSHSMRYFFTSVSRPGRGEPRF...</td>\n",
       "      <td>4nqx</td>\n",
       "    </tr>\n",
       "    <tr>\n",
       "      <th>3</th>\n",
       "      <td>Q16581</td>\n",
       "      <td>MASFSAETNSTDLLSQPWNEPPVILSMVILSLTFLLGLPGNGLVLW...</td>\n",
       "      <td>8ia8</td>\n",
       "    </tr>\n",
       "    <tr>\n",
       "      <th>4</th>\n",
       "      <td>Q6QNK2</td>\n",
       "      <td>MEKLLRLCCWYSWLLLFYYNFQVRGVYSRSQDHPGFQVLASASHYW...</td>\n",
       "      <td>7wu2</td>\n",
       "    </tr>\n",
       "  </tbody>\n",
       "</table>\n",
       "</div>"
      ],
      "text/plain": [
       "    Entry                                           Sequence Selected_PDB\n",
       "0  Q9LF79  MTSLLKSSPGRRRGGDVESGKSEHADSDSDTFYIPSKNASIERLQQ...         4aqr\n",
       "1  P9WI81  MTTPSHLSDRYELGEILGFGGMSEVHLARDLRLHRDVAVKVLRADL...         3ork\n",
       "2  P04439  MAVMAPRTLLLLLSGALALTQTWAGSHSMRYFFTSVSRPGRGEPRF...         4nqx\n",
       "3  Q16581  MASFSAETNSTDLLSQPWNEPPVILSMVILSLTFLLGLPGNGLVLW...         8ia8\n",
       "4  Q6QNK2  MEKLLRLCCWYSWLLLFYYNFQVRGVYSRSQDHPGFQVLASASHYW...         7wu2"
      ]
     },
     "execution_count": 4,
     "metadata": {},
     "output_type": "execute_result"
    }
   ],
   "source": [
    "data_test.head()"
   ]
  },
  {
   "cell_type": "code",
   "execution_count": 5,
   "id": "b1ca83be-40c2-4090-b056-65c84ca0466e",
   "metadata": {},
   "outputs": [
    {
     "data": {
      "text/html": [
       "<div>\n",
       "<style scoped>\n",
       "    .dataframe tbody tr th:only-of-type {\n",
       "        vertical-align: middle;\n",
       "    }\n",
       "\n",
       "    .dataframe tbody tr th {\n",
       "        vertical-align: top;\n",
       "    }\n",
       "\n",
       "    .dataframe thead th {\n",
       "        text-align: right;\n",
       "    }\n",
       "</style>\n",
       "<table border=\"1\" class=\"dataframe\">\n",
       "  <thead>\n",
       "    <tr style=\"text-align: right;\">\n",
       "      <th></th>\n",
       "      <th>Entry</th>\n",
       "      <th>Sequence</th>\n",
       "      <th>Selected_PDB</th>\n",
       "      <th>ProteinClass</th>\n",
       "    </tr>\n",
       "  </thead>\n",
       "  <tbody>\n",
       "    <tr>\n",
       "      <th>0</th>\n",
       "      <td>Q9LF79</td>\n",
       "      <td>MTSLLKSSPGRRRGGDVESGKSEHADSDSDTFYIPSKNASIERLQQ...</td>\n",
       "      <td>4aqr</td>\n",
       "      <td>ATPase</td>\n",
       "    </tr>\n",
       "    <tr>\n",
       "      <th>1</th>\n",
       "      <td>P9WI81</td>\n",
       "      <td>MTTPSHLSDRYELGEILGFGGMSEVHLARDLRLHRDVAVKVLRADL...</td>\n",
       "      <td>3ork</td>\n",
       "      <td>Ser:Thr</td>\n",
       "    </tr>\n",
       "    <tr>\n",
       "      <th>2</th>\n",
       "      <td>P04439</td>\n",
       "      <td>MAVMAPRTLLLLLSGALALTQTWAGSHSMRYFFTSVSRPGRGEPRF...</td>\n",
       "      <td>4nqx</td>\n",
       "      <td>MHC</td>\n",
       "    </tr>\n",
       "    <tr>\n",
       "      <th>3</th>\n",
       "      <td>Q16581</td>\n",
       "      <td>MASFSAETNSTDLLSQPWNEPPVILSMVILSLTFLLGLPGNGLVLW...</td>\n",
       "      <td>8ia8</td>\n",
       "      <td>GPCR</td>\n",
       "    </tr>\n",
       "    <tr>\n",
       "      <th>4</th>\n",
       "      <td>Q6QNK2</td>\n",
       "      <td>MEKLLRLCCWYSWLLLFYYNFQVRGVYSRSQDHPGFQVLASASHYW...</td>\n",
       "      <td>7wu2</td>\n",
       "      <td>GPCR</td>\n",
       "    </tr>\n",
       "  </tbody>\n",
       "</table>\n",
       "</div>"
      ],
      "text/plain": [
       "    Entry                                           Sequence Selected_PDB  \\\n",
       "0  Q9LF79  MTSLLKSSPGRRRGGDVESGKSEHADSDSDTFYIPSKNASIERLQQ...         4aqr   \n",
       "1  P9WI81  MTTPSHLSDRYELGEILGFGGMSEVHLARDLRLHRDVAVKVLRADL...         3ork   \n",
       "2  P04439  MAVMAPRTLLLLLSGALALTQTWAGSHSMRYFFTSVSRPGRGEPRF...         4nqx   \n",
       "3  Q16581  MASFSAETNSTDLLSQPWNEPPVILSMVILSLTFLLGLPGNGLVLW...         8ia8   \n",
       "4  Q6QNK2  MEKLLRLCCWYSWLLLFYYNFQVRGVYSRSQDHPGFQVLASASHYW...         7wu2   \n",
       "\n",
       "  ProteinClass  \n",
       "0       ATPase  \n",
       "1      Ser:Thr  \n",
       "2          MHC  \n",
       "3         GPCR  \n",
       "4         GPCR  "
      ]
     },
     "execution_count": 5,
     "metadata": {},
     "output_type": "execute_result"
    }
   ],
   "source": [
    "data_solution.head()"
   ]
  },
  {
   "cell_type": "code",
   "execution_count": 6,
   "id": "2d0f9f3f-847c-4ce7-9d25-2dbb473feeed",
   "metadata": {},
   "outputs": [],
   "source": [
    "# encoder\n",
    "labels = np.array(['ATPase', 'Aquaporin', 'Channel', 'GPCR', 'Integrin', 'MHC',\n",
    "       'Phosphatase', 'Protease', 'RTK', 'Ser:Thr'])\n",
    "Y_encoder = LabelEncoder().fit(labels)"
   ]
  },
  {
   "cell_type": "code",
   "execution_count": 7,
   "id": "0fdbd669-d23b-44f3-9ba8-0c2b34145dc5",
   "metadata": {},
   "outputs": [
    {
     "data": {
      "text/plain": [
       "array(['ATPase', 'Aquaporin', 'Channel', 'GPCR', 'Integrin', 'MHC',\n",
       "       'Phosphatase', 'Protease', 'RTK', 'Ser:Thr'], dtype='<U11')"
      ]
     },
     "execution_count": 7,
     "metadata": {},
     "output_type": "execute_result"
    }
   ],
   "source": [
    "Y_encoder.classes_"
   ]
  },
  {
   "cell_type": "code",
   "execution_count": 8,
   "id": "29557ee4-d39f-4644-bad2-99f52588ea05",
   "metadata": {},
   "outputs": [],
   "source": [
    "# fake model\n",
    "class random_model():\n",
    "    def fit(X, y):\n",
    "        pass\n",
    "    def predict(X):\n",
    "        pred = []\n",
    "        for x in X:\n",
    "            pred.append(np.random.randint(10))\n",
    "        return pred"
   ]
  },
  {
   "cell_type": "markdown",
   "id": "b211e1e6-a9b5-4111-9153-fae51add1650",
   "metadata": {},
   "source": [
    "# Run Model"
   ]
  },
  {
   "cell_type": "code",
   "execution_count": 9,
   "id": "8994f761-a4fc-4df0-b8f9-6ec5a828bfdc",
   "metadata": {},
   "outputs": [],
   "source": [
    "model = random_model\n",
    "# Fit Model\n",
    "model.fit(data_test.Sequence,1)\n",
    "# Predict \n",
    "y_pred = model.predict(data_test.Sequence)"
   ]
  },
  {
   "cell_type": "code",
   "execution_count": 10,
   "id": "4b4d143f-b648-44db-8b60-fb0c67b1231f",
   "metadata": {},
   "outputs": [],
   "source": [
    "# transform back to labels\n",
    "y_pred = Y_encoder.inverse_transform(y_pred)\n",
    "y_test = data_solution.ProteinClass.values"
   ]
  },
  {
   "cell_type": "markdown",
   "id": "26b32b57-cd58-4870-8c4a-5d7c586e57c7",
   "metadata": {},
   "source": [
    "# Evaluating model"
   ]
  },
  {
   "cell_type": "code",
   "execution_count": 11,
   "id": "5a84554c-bc07-4517-a932-9b4c1184caf5",
   "metadata": {},
   "outputs": [
    {
     "name": "stdout",
     "output_type": "stream",
     "text": [
      "Accuracy for testing data: 0.1228\n",
      "Classification Report:\n",
      "              precision    recall  f1-score   support\n",
      "\n",
      "      ATPase       0.18      0.18      0.18        22\n",
      "   Aquaporin       0.00      0.00      0.00         3\n",
      "     Channel       0.29      0.12      0.17        32\n",
      "        GPCR       0.17      0.07      0.10        41\n",
      "    Integrin       0.07      0.25      0.11         4\n",
      "         MHC       0.11      0.20      0.14        10\n",
      " Phosphatase       0.12      0.13      0.13        15\n",
      "    Protease       0.00      0.00      0.00        13\n",
      "         RTK       0.14      0.21      0.17        14\n",
      "     Ser:Thr       0.10      0.12      0.11        17\n",
      "\n",
      "    accuracy                           0.12       171\n",
      "   macro avg       0.12      0.13      0.11       171\n",
      "weighted avg       0.16      0.12      0.13       171\n",
      "\n"
     ]
    },
    {
     "data": {
      "image/png": "[encoded data removed]",
      "text/plain": [
       "<Figure size 1000x800 with 2 Axes>"
      ]
     },
     "metadata": {},
     "output_type": "display_data"
    }
   ],
   "source": [
    "# Evaluation\n",
    "accuracy = accuracy_score(y_test, y_pred)\n",
    "print(f\"Accuracy for testing data: {accuracy:.4f}\")\n",
    "print(\"Classification Report:\")\n",
    "print(classification_report(y_test, y_pred))\n",
    "\n",
    "# Confusion matrix\n",
    "classes = Y_encoder.classes_\n",
    "conf_matrix = confusion_matrix(y_test, y_pred, labels=classes)\n",
    "plt.figure(figsize=(10,8))\n",
    "sns.heatmap(conf_matrix, annot=True, fmt='d', cmap='Blues',\n",
    "            xticklabels=classes, yticklabels=classes)\n",
    "plt.xlabel('Predicted Labels')\n",
    "plt.ylabel('True Labels')\n",
    "plt.show()"
   ]
  },
  {
   "cell_type": "markdown",
   "id": "4e9c91e8-391e-4593-85c8-cd83890f9cc1",
   "metadata": {},
   "source": [
    "# Submission format"
   ]
  },
  {
   "cell_type": "code",
   "execution_count": 12,
   "id": "c7905acd-3013-4173-93c4-310ad7d1ee31",
   "metadata": {},
   "outputs": [],
   "source": [
    "def save_predictions(_fn, _y_pred, _df):\n",
    "    import csv\n",
    "    with open(_fn, 'w') as fout:\n",
    "        writer = csv.writer(fout, delimiter=',', lineterminator='\\n')\n",
    "        writer.writerow(['Entry', 'ProteinClass'])\n",
    "        for y, Entry in zip(_df['Entry'], _y_pred):\n",
    "            writer.writerow([y, Entry])"
   ]
  },
  {
   "cell_type": "code",
   "execution_count": 13,
   "id": "d11d1de4-2194-44b0-b7d8-c2c877352523",
   "metadata": {},
   "outputs": [],
   "source": [
    "save_predictions('student_1_random_model.csv', y_pred, data_test)"
   ]
  },
  {
   "cell_type": "code",
   "execution_count": null,
   "id": "6c92a29e-0af8-403f-a61b-0b53d3c3a8f5",
   "metadata": {},
   "outputs": [],
   "source": []
  }
 ],
 "metadata": {
  "kernelspec": {
   "display_name": "Python 3 (ipykernel)",
   "language": "python",
   "name": "python3"
  },
  "language_info": {
   "codemirror_mode": {
    "name": "ipython",
    "version": 3
   },
   "file_extension": ".py",
   "mimetype": "text/x-python",
   "name": "python",
   "nbconvert_exporter": "python",
   "pygments_lexer": "ipython3",
   "version": "3.12.3"
  }
 },
 "nbformat": 4,
 "nbformat_minor": 5
}
